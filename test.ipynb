{
 "cells": [
  {
   "cell_type": "code",
   "execution_count": 1,
   "metadata": {},
   "outputs": [],
   "source": [
    "from mmesopy import Transect\n",
    "from mmesopy import get_distance"
   ]
  },
  {
   "cell_type": "code",
   "execution_count": 2,
   "id": "560e6e84",
   "metadata": {},
   "outputs": [
    {
     "name": "stdout",
     "output_type": "stream",
     "text": [
      "Transect 'UNL.CoMeTalpha.20240711.1146.L2_2024.p2.f1.rh2.ts2.tf2.w4' loaded successfully.\n",
      "Checking for temperature sensor contamination...\n",
      "Contamination flags added.\n"
     ]
    },
    {
     "name": "stderr",
     "output_type": "stream",
     "text": [
      "/home/kyle/Documents/mmesopy/src/mmesopy/transect/transect.py:30: FutureWarning: In a future version, xarray will not decode the variable 'time' into a timedelta64 dtype based on the presence of a timedelta-like 'units' attribute by default. Instead it will rely on the presence of a timedelta64 'dtype' attribute, which is now xarray's default way of encoding timedelta64 values.\n",
      "To continue decoding into a timedelta64 dtype, either set `decode_timedelta=True` when opening this dataset, or add the attribute `dtype='timedelta64[ns]'` to this variable on disk.\n",
      "To opt-in to future behavior, set `decode_timedelta=False`.\n",
      "  self.data = xr.open_dataset(self.nc_filepath)\n"
     ]
    }
   ],
   "source": [
    "test = Transect(\"/home/kyle/Downloads/UNL.CoMeTalpha.20240711.1146.L2_2024.p2.f1.rh2.ts2.tf2.w4.nc\", temp_contamination=True)"
   ]
  },
  {
   "cell_type": "code",
   "execution_count": 3,
   "id": "245d05cf",
   "metadata": {},
   "outputs": [
    {
     "name": "stderr",
     "output_type": "stream",
     "text": [
      "/home/kyle/Documents/mmesopy/src/mmesopy/spatial_extensions/longify.py:34: UserWarning: No reference coordinates provided! Using the first data point as the origin.\n",
      "  warnings.warn(\n"
     ]
    }
   ],
   "source": [
    "distances = get_distance(test)"
   ]
  },
  {
   "cell_type": "code",
   "execution_count": null,
   "id": "73369514",
   "metadata": {},
   "outputs": [
    {
     "data": {
      "text/plain": [
       "np.float64(0.6244608511727049)"
      ]
     },
     "execution_count": 9,
     "metadata": {},
     "output_type": "execute_result"
    }
   ],
   "source": []
  },
  {
   "cell_type": "code",
   "execution_count": null,
   "id": "fd81a03f",
   "metadata": {},
   "outputs": [],
   "source": []
  }
 ],
 "metadata": {
  "kernelspec": {
   "display_name": ".venv",
   "language": "python",
   "name": "python3"
  },
  "language_info": {
   "codemirror_mode": {
    "name": "ipython",
    "version": 3
   },
   "file_extension": ".py",
   "mimetype": "text/x-python",
   "name": "python",
   "nbconvert_exporter": "python",
   "pygments_lexer": "ipython3",
   "version": "3.13.7"
  }
 },
 "nbformat": 4,
 "nbformat_minor": 5
}
